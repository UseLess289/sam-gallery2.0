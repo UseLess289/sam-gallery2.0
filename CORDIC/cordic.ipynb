{
 "cells": [
  {
   "cell_type": "code",
   "execution_count": null,
   "id": "4dacf710",
   "metadata": {
    "vscode": {
     "languageId": "plaintext"
    }
   },
   "outputs": [],
   "source": [
    "from IPython.display import Image"
   ]
  },
  {
   "cell_type": "markdown",
   "id": "54b53b27",
   "metadata": {},
   "source": [
    "# Algorithme COordinate Rotation DIgital Computer"
   ]
  },
  {
   "cell_type": "markdown",
   "id": "a1e8f054",
   "metadata": {},
   "source": [
    "Les premières machines et calcultaeurs ne pouvaient executer qu'uniquement des additions et soustractions. Le problème est que ces opérations ne suffisent pas à la plupart des scientifiques. Ainsi l'algorithme CORDIC a été crée. Il permet le calcul de fonctions trigonométriques en utilisant uniquement des additions et soustractions. Cela relève d'une prouesse. On se propose donc de découvrir et d'implémenter ce bel algorithme."
   ]
  },
  {
   "cell_type": "markdown",
   "id": "57f0dfd0",
   "metadata": {},
   "source": [
    "## Quelques bases"
   ]
  },
  {
   "cell_type": "markdown",
   "id": "fdd8a460",
   "metadata": {},
   "source": [
    "Avant tout, il faut comprendre les bases sur les différentes fonctions sinus, cosinus et tangeante. Ceci n'est pas un cours de maths de 3ème.\n",
    "\n",
    "\n",
    "On peut facilement visualiser à quoi respondent ces fonctions en utilisant le cercle trigonométrique : "
   ]
  },
  {
   "cell_type": "code",
   "execution_count": null,
   "id": "3166b6d0",
   "metadata": {
    "vscode": {
     "languageId": "plaintext"
    }
   },
   "outputs": [],
   "source": [
    "Image(url=\"https://lecluseo.scenari-community.org/2DE/Trigonometrie/res/cercletrigo.png\")"
   ]
  }
 ],
 "metadata": {
  "language_info": {
   "name": "python"
  }
 },
 "nbformat": 4,
 "nbformat_minor": 5
}
