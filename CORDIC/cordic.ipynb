{
 "cells": [
  {
   "cell_type": "code",
   "execution_count": 1,
   "id": "4dacf710",
   "metadata": {},
   "outputs": [],
   "source": [
    "from IPython.display import Image"
   ]
  },
  {
   "cell_type": "markdown",
   "id": "54b53b27",
   "metadata": {},
   "source": [
    "# Algorithme COordinate Rotation DIgital Computer"
   ]
  },
  {
   "cell_type": "markdown",
   "id": "a1e8f054",
   "metadata": {},
   "source": [
    "Les premières machines et calcultaeurs ne pouvaient executer qu'uniquement des additions et soustractions. Le problème est que ces opérations ne suffisent pas à la plupart des scientifiques. Ainsi l'algorithme CORDIC a été crée. Il permet le calcul de fonctions trigonométriques en utilisant uniquement des additions et soustractions. Cela relève d'une prouesse. On se propose donc de découvrir et d'implémenter ce bel algorithme."
   ]
  },
  {
   "cell_type": "markdown",
   "id": "57f0dfd0",
   "metadata": {},
   "source": [
    "## Quelques bases"
   ]
  },
  {
   "cell_type": "markdown",
   "id": "fdd8a460",
   "metadata": {},
   "source": [
    "Avant tout, il faut comprendre les bases sur les différentes fonctions sinus, cosinus et tangeante. Ceci n'est pas un cours de maths de 3ème.\n",
    "\n",
    "\n",
    "On peut facilement visualiser à quoi respondent ces fonctions en utilisant le cercle trigonométrique : "
   ]
  },
  {
   "cell_type": "code",
   "execution_count": 2,
   "id": "3166b6d0",
   "metadata": {},
   "outputs": [
    {
     "data": {
      "text/html": [
       "<img src=\"https://lecluseo.scenari-community.org/2DE/Trigonometrie/res/cercletrigo.png\"/>"
      ],
      "text/plain": [
       "<IPython.core.display.Image object>"
      ]
     },
     "execution_count": 2,
     "metadata": {},
     "output_type": "execute_result"
    }
   ],
   "source": [
    "Image(url=\"https://lecluseo.scenari-community.org/2DE/Trigonometrie/res/cercletrigo.png\")"
   ]
  },
  {
   "cell_type": "markdown",
   "id": "785f3b0c",
   "metadata": {},
   "source": [
    "** à noter ** : on définit la tangeante par : $ \\tan(x)= \\frac {\\sin x}{\\cos x}$. On remarquera que le domaine de définition de $\\tan$ est limité par sa définition sur $]-k \\frac \\pi 2, k \\frac \\pi 2[, k \\in \\mathbb Z$"
   ]
  },
  {
   "cell_type": "markdown",
   "id": "de4a8e98",
   "metadata": {},
   "source": [
    "Comme écrit sur ce dessin, on lit la valeur du cosinus d'une valeur sur l'axe des abscisses et le sinus sur l'oronnée."
   ]
  },
  {
   "cell_type": "markdown",
   "id": "74595a70",
   "metadata": {},
   "source": [
    "Prenons un exemple : $sin(45°)=sin(\\frac  \\pi 4)= \\frac {\\sqrt 2} 2$"
   ]
  },
  {
   "cell_type": "markdown",
   "id": "27873dc3",
   "metadata": {},
   "source": [
    "De là, nous pouvons facilement donner plusieurs formules qui découlent des propriétées de symétrie des fonctions cosinus et sinus :"
   ]
  },
  {
   "cell_type": "markdown",
   "id": "6bc092b9",
   "metadata": {},
   "source": []
  }
 ],
 "metadata": {
  "kernelspec": {
   "display_name": "Python 3",
   "language": "python",
   "name": "python3"
  },
  "language_info": {
   "codemirror_mode": {
    "name": "ipython",
    "version": 3
   },
   "file_extension": ".py",
   "mimetype": "text/x-python",
   "name": "python",
   "nbconvert_exporter": "python",
   "pygments_lexer": "ipython3",
   "version": "3.13.7"
  }
 },
 "nbformat": 4,
 "nbformat_minor": 5
}
